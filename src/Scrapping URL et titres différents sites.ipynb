{
 "cells": [
  {
   "cell_type": "markdown",
   "id": "fdd4468b-335b-4663-9354-9c32830d2fa9",
   "metadata": {},
   "source": [
    "Je vais ici essayer de créer des bases de données avec tous les url des articles suceptibles de nous intéresser parmi tous les éléments que je n'ai pas récupéré manuellement"
   ]
  },
  {
   "cell_type": "code",
   "execution_count": 11,
   "id": "09535e0a-0a46-4781-b2db-9fdbfe1e09b4",
   "metadata": {},
   "outputs": [
    {
     "name": "stdout",
     "output_type": "stream",
     "text": [
      "Requirement already satisfied: bs4 in /opt/mamba/lib/python3.10/site-packages (0.0.1)\n",
      "Requirement already satisfied: beautifulsoup4 in /opt/mamba/lib/python3.10/site-packages (from bs4) (4.12.2)\n",
      "Requirement already satisfied: soupsieve>1.2 in /opt/mamba/lib/python3.10/site-packages (from beautifulsoup4->bs4) (2.5)\n",
      "Requirement already satisfied: requests in /opt/mamba/lib/python3.10/site-packages (2.31.0)\n",
      "Requirement already satisfied: charset-normalizer<4,>=2 in /opt/mamba/lib/python3.10/site-packages (from requests) (3.2.0)\n",
      "Requirement already satisfied: idna<4,>=2.5 in /opt/mamba/lib/python3.10/site-packages (from requests) (3.4)\n",
      "Requirement already satisfied: urllib3<3,>=1.21.1 in /opt/mamba/lib/python3.10/site-packages (from requests) (1.26.18)\n",
      "Requirement already satisfied: certifi>=2017.4.17 in /opt/mamba/lib/python3.10/site-packages (from requests) (2023.11.17)\n",
      "Requirement already satisfied: lxml in /opt/mamba/lib/python3.10/site-packages (4.9.3)\n",
      "Requirement already satisfied: selenium in /opt/mamba/lib/python3.10/site-packages (4.15.2)\n",
      "Requirement already satisfied: urllib3<3,>=1.26 in /opt/mamba/lib/python3.10/site-packages (from urllib3[socks]<3,>=1.26->selenium) (1.26.18)\n",
      "Requirement already satisfied: trio~=0.17 in /opt/mamba/lib/python3.10/site-packages (from selenium) (0.23.1)\n",
      "Requirement already satisfied: trio-websocket~=0.9 in /opt/mamba/lib/python3.10/site-packages (from selenium) (0.11.1)\n",
      "Requirement already satisfied: certifi>=2021.10.8 in /opt/mamba/lib/python3.10/site-packages (from selenium) (2023.11.17)\n",
      "Requirement already satisfied: attrs>=20.1.0 in /opt/mamba/lib/python3.10/site-packages (from trio~=0.17->selenium) (23.1.0)\n",
      "Requirement already satisfied: sortedcontainers in /opt/mamba/lib/python3.10/site-packages (from trio~=0.17->selenium) (2.4.0)\n",
      "Requirement already satisfied: idna in /opt/mamba/lib/python3.10/site-packages (from trio~=0.17->selenium) (3.4)\n",
      "Requirement already satisfied: outcome in /opt/mamba/lib/python3.10/site-packages (from trio~=0.17->selenium) (1.3.0.post0)\n",
      "Requirement already satisfied: sniffio>=1.3.0 in /opt/mamba/lib/python3.10/site-packages (from trio~=0.17->selenium) (1.3.0)\n",
      "Requirement already satisfied: exceptiongroup>=1.0.0rc9 in /opt/mamba/lib/python3.10/site-packages (from trio~=0.17->selenium) (1.2.0)\n",
      "Requirement already satisfied: wsproto>=0.14 in /opt/mamba/lib/python3.10/site-packages (from trio-websocket~=0.9->selenium) (1.2.0)\n",
      "Requirement already satisfied: PySocks!=1.5.7,<2.0,>=1.5.6 in /opt/mamba/lib/python3.10/site-packages (from urllib3[socks]<3,>=1.26->selenium) (1.7.1)\n",
      "Requirement already satisfied: h11<1,>=0.9.0 in /opt/mamba/lib/python3.10/site-packages (from wsproto>=0.14->trio-websocket~=0.9->selenium) (0.14.0)\n",
      "Requirement already satisfied: selenium in /opt/mamba/lib/python3.10/site-packages (4.15.2)\n",
      "Requirement already satisfied: urllib3<3,>=1.26 in /opt/mamba/lib/python3.10/site-packages (from urllib3[socks]<3,>=1.26->selenium) (1.26.18)\n",
      "Requirement already satisfied: trio~=0.17 in /opt/mamba/lib/python3.10/site-packages (from selenium) (0.23.1)\n",
      "Requirement already satisfied: trio-websocket~=0.9 in /opt/mamba/lib/python3.10/site-packages (from selenium) (0.11.1)\n",
      "Requirement already satisfied: certifi>=2021.10.8 in /opt/mamba/lib/python3.10/site-packages (from selenium) (2023.11.17)\n",
      "Requirement already satisfied: attrs>=20.1.0 in /opt/mamba/lib/python3.10/site-packages (from trio~=0.17->selenium) (23.1.0)\n",
      "Requirement already satisfied: sortedcontainers in /opt/mamba/lib/python3.10/site-packages (from trio~=0.17->selenium) (2.4.0)\n",
      "Requirement already satisfied: idna in /opt/mamba/lib/python3.10/site-packages (from trio~=0.17->selenium) (3.4)\n",
      "Requirement already satisfied: outcome in /opt/mamba/lib/python3.10/site-packages (from trio~=0.17->selenium) (1.3.0.post0)\n",
      "Requirement already satisfied: sniffio>=1.3.0 in /opt/mamba/lib/python3.10/site-packages (from trio~=0.17->selenium) (1.3.0)\n",
      "Requirement already satisfied: exceptiongroup>=1.0.0rc9 in /opt/mamba/lib/python3.10/site-packages (from trio~=0.17->selenium) (1.2.0)\n",
      "Requirement already satisfied: wsproto>=0.14 in /opt/mamba/lib/python3.10/site-packages (from trio-websocket~=0.9->selenium) (1.2.0)\n",
      "Requirement already satisfied: PySocks!=1.5.7,<2.0,>=1.5.6 in /opt/mamba/lib/python3.10/site-packages (from urllib3[socks]<3,>=1.26->selenium) (1.7.1)\n",
      "Requirement already satisfied: h11<1,>=0.9.0 in /opt/mamba/lib/python3.10/site-packages (from wsproto>=0.14->trio-websocket~=0.9->selenium) (0.14.0)\n"
     ]
    }
   ],
   "source": [
    "!pip install bs4\n",
    "!pip install requests\n",
    "!pip install lxml\n",
    "!pip install selenium\n",
    "!pip install --upgrade selenium\n",
    "\n",
    "import requests\n",
    "import lxml\n",
    "from lxml import html\n",
    "from bs4 import BeautifulSoup\n",
    "from urllib.parse import urljoin, urlparse\n",
    "import time\n",
    "import pandas as pd\n",
    "import numpy as np \n",
    "import re\n",
    "from selenium import webdriver\n",
    "from selenium.webdriver.common.keys import Keys\n",
    "from selenium import webdriver"
   ]
  },
  {
   "cell_type": "markdown",
   "id": "16c8d631-f135-41ec-a4cf-aa55be8308bd",
   "metadata": {},
   "source": [
    "# SOS Education #"
   ]
  },
  {
   "cell_type": "code",
   "execution_count": 3,
   "id": "79716c5b-f050-4642-809c-a861693f8548",
   "metadata": {},
   "outputs": [],
   "source": [
    "xpath = '//*[(@id = \"articles\")]//*[contains(concat( \" \", @class, \" \" ), concat( \" \", \"vc_col-sm-12\", \" \" ))]'\n",
    "url = \"https://soseducation.org/notes-etudes-entretiens-tribunes/la-question-transgenre-chez-les-enfants/\""
   ]
  },
  {
   "cell_type": "code",
   "execution_count": 14,
   "id": "4ed8a969-044f-42fe-9043-02cc528e066c",
   "metadata": {},
   "outputs": [
    {
     "data": {
      "text/plain": [
       "[]"
      ]
     },
     "execution_count": 14,
     "metadata": {},
     "output_type": "execute_result"
    }
   ],
   "source": [
    "# Fonction pour récupérer le contenu HTML d'une URL\n",
    "def get_html_content(url):\n",
    "    response = requests.get(url)\n",
    "    if response.status_code == 200:\n",
    "        return response.text\n",
    "    else:\n",
    "        print(f\"Erreur {response.status_code} lors de la récupération de la page {url}\")\n",
    "        return None\n",
    "\n",
    "# Récupérer le contenu HTML de la page\n",
    "html_content = get_html_content(url)\n",
    "\n",
    "# Vérifier si le contenu a été récupéré avec succès\n",
    "if html_content:\n",
    "    # Utiliser BeautifulSoup pour traiter le HTML\n",
    "    soup = BeautifulSoup(html_content, 'lxml')\n",
    "\n",
    "    # Utiliser find_all avec find pour récupérer les éléments correspondants à l'expression XPath\n",
    "    elements = soup.find_all(\"a\")\n",
    "    \n",
    "    # Extraire les liens des éléments trouvés\n",
    "    links = [element.a['href'] for element in elements if element.a]\n",
    "    \n",
    "links"
   ]
  },
  {
   "cell_type": "code",
   "execution_count": 9,
   "id": "11a95e6f-d656-42cc-814f-7b6884cf7a91",
   "metadata": {},
   "outputs": [],
   "source": [
    "# Supposons que votre contenu HTML est dans la variable html_content\n",
    "soup = BeautifulSoup(html_content, 'html.parser')\n",
    "\n",
    "# Trouver tous les liens avec la classe \"vc_general\"\n",
    "links = soup.find_all('a', class_='vc_general')"
   ]
  },
  {
   "cell_type": "code",
   "execution_count": 13,
   "id": "14725600-8bd9-4472-9abd-bd999ee445e4",
   "metadata": {},
   "outputs": [
    {
     "data": {
      "text/plain": [
       "[<Element div at 0x7f2af1362cf0>, <Element div at 0x7f2af155b880>]"
      ]
     },
     "execution_count": 13,
     "metadata": {},
     "output_type": "execute_result"
    }
   ],
   "source": [
    "response = requests.get(url)\n",
    "tree = html.fromstring(response.content)\n",
    "\n",
    "# Utilisez XPath pour trouver les liens dans la partie \"lettres d'information\"\n",
    "links = tree.xpath(xpath)\n",
    "links"
   ]
  },
  {
   "cell_type": "markdown",
   "id": "37f8e4e3-ec03-43e2-be5d-a8ed34a2688d",
   "metadata": {},
   "source": [
    "Ok j'ai pas réussi à scrapper ce site"
   ]
  },
  {
   "cell_type": "markdown",
   "id": "6cc53f4c-6a94-43ab-a5ed-a042ae00df48",
   "metadata": {},
   "source": [
    "# TRADFEM #"
   ]
  },
  {
   "cell_type": "code",
   "execution_count": 36,
   "id": "63f82513-c8f5-4786-8bdf-83fc2fd7cae2",
   "metadata": {},
   "outputs": [
    {
     "ename": "WebDriverException",
     "evalue": "Message: Service /home/onyxia/.cache/selenium/chromedriver/linux64/119.0.6045.105/chromedriver unexpectedly exited. Status code was: 127\n",
     "output_type": "error",
     "traceback": [
      "\u001b[0;31m---------------------------------------------------------------------------\u001b[0m",
      "\u001b[0;31mWebDriverException\u001b[0m                        Traceback (most recent call last)",
      "Cell \u001b[0;32mIn[36], line 14\u001b[0m\n\u001b[1;32m     11\u001b[0m chrome_options\u001b[38;5;241m.\u001b[39madd_argument(\u001b[38;5;124mf\u001b[39m\u001b[38;5;124m\"\u001b[39m\u001b[38;5;124mwebdriver.chrome.driver=\u001b[39m\u001b[38;5;132;01m{\u001b[39;00mchromedriver_path\u001b[38;5;132;01m}\u001b[39;00m\u001b[38;5;124m\"\u001b[39m)\n\u001b[1;32m     13\u001b[0m \u001b[38;5;66;03m# Initialisez le pilote Chrome avec les options\u001b[39;00m\n\u001b[0;32m---> 14\u001b[0m driver \u001b[38;5;241m=\u001b[39m \u001b[43mwebdriver\u001b[49m\u001b[38;5;241;43m.\u001b[39;49m\u001b[43mChrome\u001b[49m\u001b[43m(\u001b[49m\u001b[43moptions\u001b[49m\u001b[38;5;241;43m=\u001b[39;49m\u001b[43mchrome_options\u001b[49m\u001b[43m)\u001b[49m\n\u001b[1;32m     16\u001b[0m \u001b[38;5;66;03m# Utilisez le pilote pour accéder aux pages Web, effectuer des actions, etc.\u001b[39;00m\n\u001b[1;32m     17\u001b[0m driver\u001b[38;5;241m.\u001b[39mget(url)\n",
      "File \u001b[0;32m/opt/mamba/lib/python3.10/site-packages/selenium/webdriver/chrome/webdriver.py:45\u001b[0m, in \u001b[0;36mWebDriver.__init__\u001b[0;34m(self, options, service, keep_alive)\u001b[0m\n\u001b[1;32m     42\u001b[0m service \u001b[38;5;241m=\u001b[39m service \u001b[38;5;28;01mif\u001b[39;00m service \u001b[38;5;28;01melse\u001b[39;00m Service()\n\u001b[1;32m     43\u001b[0m options \u001b[38;5;241m=\u001b[39m options \u001b[38;5;28;01mif\u001b[39;00m options \u001b[38;5;28;01melse\u001b[39;00m Options()\n\u001b[0;32m---> 45\u001b[0m \u001b[38;5;28;43msuper\u001b[39;49m\u001b[43m(\u001b[49m\u001b[43m)\u001b[49m\u001b[38;5;241;43m.\u001b[39;49m\u001b[38;5;21;43m__init__\u001b[39;49m\u001b[43m(\u001b[49m\n\u001b[1;32m     46\u001b[0m \u001b[43m    \u001b[49m\u001b[43mDesiredCapabilities\u001b[49m\u001b[38;5;241;43m.\u001b[39;49m\u001b[43mCHROME\u001b[49m\u001b[43m[\u001b[49m\u001b[38;5;124;43m\"\u001b[39;49m\u001b[38;5;124;43mbrowserName\u001b[39;49m\u001b[38;5;124;43m\"\u001b[39;49m\u001b[43m]\u001b[49m\u001b[43m,\u001b[49m\n\u001b[1;32m     47\u001b[0m \u001b[43m    \u001b[49m\u001b[38;5;124;43m\"\u001b[39;49m\u001b[38;5;124;43mgoog\u001b[39;49m\u001b[38;5;124;43m\"\u001b[39;49m\u001b[43m,\u001b[49m\n\u001b[1;32m     48\u001b[0m \u001b[43m    \u001b[49m\u001b[43moptions\u001b[49m\u001b[43m,\u001b[49m\n\u001b[1;32m     49\u001b[0m \u001b[43m    \u001b[49m\u001b[43mservice\u001b[49m\u001b[43m,\u001b[49m\n\u001b[1;32m     50\u001b[0m \u001b[43m    \u001b[49m\u001b[43mkeep_alive\u001b[49m\u001b[43m,\u001b[49m\n\u001b[1;32m     51\u001b[0m \u001b[43m\u001b[49m\u001b[43m)\u001b[49m\n",
      "File \u001b[0;32m/opt/mamba/lib/python3.10/site-packages/selenium/webdriver/chromium/webdriver.py:53\u001b[0m, in \u001b[0;36mChromiumDriver.__init__\u001b[0;34m(self, browser_name, vendor_prefix, options, service, keep_alive)\u001b[0m\n\u001b[1;32m     49\u001b[0m \u001b[38;5;28mself\u001b[39m\u001b[38;5;241m.\u001b[39mservice \u001b[38;5;241m=\u001b[39m service\n\u001b[1;32m     51\u001b[0m \u001b[38;5;28mself\u001b[39m\u001b[38;5;241m.\u001b[39mservice\u001b[38;5;241m.\u001b[39mpath \u001b[38;5;241m=\u001b[39m DriverFinder\u001b[38;5;241m.\u001b[39mget_path(\u001b[38;5;28mself\u001b[39m\u001b[38;5;241m.\u001b[39mservice, options)\n\u001b[0;32m---> 53\u001b[0m \u001b[38;5;28;43mself\u001b[39;49m\u001b[38;5;241;43m.\u001b[39;49m\u001b[43mservice\u001b[49m\u001b[38;5;241;43m.\u001b[39;49m\u001b[43mstart\u001b[49m\u001b[43m(\u001b[49m\u001b[43m)\u001b[49m\n\u001b[1;32m     55\u001b[0m \u001b[38;5;28;01mtry\u001b[39;00m:\n\u001b[1;32m     56\u001b[0m     \u001b[38;5;28msuper\u001b[39m()\u001b[38;5;241m.\u001b[39m\u001b[38;5;21m__init__\u001b[39m(\n\u001b[1;32m     57\u001b[0m         command_executor\u001b[38;5;241m=\u001b[39mChromiumRemoteConnection(\n\u001b[1;32m     58\u001b[0m             remote_server_addr\u001b[38;5;241m=\u001b[39m\u001b[38;5;28mself\u001b[39m\u001b[38;5;241m.\u001b[39mservice\u001b[38;5;241m.\u001b[39mservice_url,\n\u001b[0;32m   (...)\u001b[0m\n\u001b[1;32m     64\u001b[0m         options\u001b[38;5;241m=\u001b[39moptions,\n\u001b[1;32m     65\u001b[0m     )\n",
      "File \u001b[0;32m/opt/mamba/lib/python3.10/site-packages/selenium/webdriver/common/service.py:102\u001b[0m, in \u001b[0;36mService.start\u001b[0;34m(self)\u001b[0m\n\u001b[1;32m    100\u001b[0m count \u001b[38;5;241m=\u001b[39m \u001b[38;5;241m0\u001b[39m\n\u001b[1;32m    101\u001b[0m \u001b[38;5;28;01mwhile\u001b[39;00m \u001b[38;5;28;01mTrue\u001b[39;00m:\n\u001b[0;32m--> 102\u001b[0m     \u001b[38;5;28;43mself\u001b[39;49m\u001b[38;5;241;43m.\u001b[39;49m\u001b[43massert_process_still_running\u001b[49m\u001b[43m(\u001b[49m\u001b[43m)\u001b[49m\n\u001b[1;32m    103\u001b[0m     \u001b[38;5;28;01mif\u001b[39;00m \u001b[38;5;28mself\u001b[39m\u001b[38;5;241m.\u001b[39mis_connectable():\n\u001b[1;32m    104\u001b[0m         \u001b[38;5;28;01mbreak\u001b[39;00m\n",
      "File \u001b[0;32m/opt/mamba/lib/python3.10/site-packages/selenium/webdriver/common/service.py:115\u001b[0m, in \u001b[0;36mService.assert_process_still_running\u001b[0;34m(self)\u001b[0m\n\u001b[1;32m    113\u001b[0m return_code \u001b[38;5;241m=\u001b[39m \u001b[38;5;28mself\u001b[39m\u001b[38;5;241m.\u001b[39mprocess\u001b[38;5;241m.\u001b[39mpoll()\n\u001b[1;32m    114\u001b[0m \u001b[38;5;28;01mif\u001b[39;00m return_code:\n\u001b[0;32m--> 115\u001b[0m     \u001b[38;5;28;01mraise\u001b[39;00m WebDriverException(\u001b[38;5;124mf\u001b[39m\u001b[38;5;124m\"\u001b[39m\u001b[38;5;124mService \u001b[39m\u001b[38;5;132;01m{\u001b[39;00m\u001b[38;5;28mself\u001b[39m\u001b[38;5;241m.\u001b[39m_path\u001b[38;5;132;01m}\u001b[39;00m\u001b[38;5;124m unexpectedly exited. Status code was: \u001b[39m\u001b[38;5;132;01m{\u001b[39;00mreturn_code\u001b[38;5;132;01m}\u001b[39;00m\u001b[38;5;124m\"\u001b[39m)\n",
      "\u001b[0;31mWebDriverException\u001b[0m: Message: Service /home/onyxia/.cache/selenium/chromedriver/linux64/119.0.6045.105/chromedriver unexpectedly exited. Status code was: 127\n"
     ]
    }
   ],
   "source": [
    "url = 'https://tradfem.wordpress.com/'\n",
    "# Spécifiez le chemin local du chromedriver\n",
    "chromedriver_path = \"./chromedriver.exe\"\n",
    "\n",
    "# Configurez les options du navigateur si nécessaire\n",
    "chrome_options = webdriver.ChromeOptions()\n",
    "# Par exemple, pour exécuter en mode têteless (sans interface graphique), décommentez la ligne suivante :\n",
    "# chrome_options.add_argument('--headless')\n",
    "\n",
    "# Ajoutez le chemin du pilote aux options\n",
    "chrome_options.add_argument(f\"webdriver.chrome.driver={chromedriver_path}\")\n",
    "\n",
    "# Initialisez le pilote Chrome avec les options\n",
    "driver = webdriver.Chrome(options=chrome_options)\n",
    "\n",
    "# Utilisez le pilote pour accéder aux pages Web, effectuer des actions, etc.\n",
    "driver.get(url)\n",
    "\n",
    "# Défilement vers le bas pour charger plus de contenu\n",
    "for _ in range(3):  # Changez le nombre d'itérations selon vos besoins\n",
    "    driver.find_element_by_tag_name('body').send_keys(Keys.END)\n",
    "    time.sleep(1)  # Pause pour laisser le temps au contenu de se charger\n",
    "\n",
    "# Attendez quelques secondes supplémentaires pour vous assurer que tout le contenu est chargé\n",
    "time.sleep(2)\n",
    "\n",
    "# Obtenez le contenu de la page après le défilement\n",
    "page_content = driver.page_source\n",
    "\n",
    "# Fermez le navigateur automatisé\n",
    "driver.quit()\n",
    "\n",
    "# Utilisez BeautifulSoup pour analyser le contenu\n",
    "soup = BeautifulSoup(page_content, \"html.parser\")\n",
    "liens = soup.find_all(\"a\")\n",
    "liens"
   ]
  },
  {
   "cell_type": "markdown",
   "id": "63b3c2bd-cce4-4aef-a0ee-dbf731fbeb2c",
   "metadata": {},
   "source": [
    "Grosses difficultés à gérer Seleium et le WebDriver"
   ]
  },
  {
   "cell_type": "markdown",
   "id": "13964d8b-a50b-49b4-b5ba-23977e328f1f",
   "metadata": {},
   "source": [
    "# Christined75 #"
   ]
  },
  {
   "cell_type": "code",
   "execution_count": 3,
   "id": "f9f9884c-7a6d-4828-a64f-23697c430164",
   "metadata": {},
   "outputs": [],
   "source": [
    "url = \"https://christineld75.wordpress.com/sommaire-des-articles/\"\n",
    "page = requests.get(url)\n",
    "\n",
    "# Ajoutez une pause de 1 seconde\n",
    "time.sleep(1)\n",
    "\n",
    "soup = BeautifulSoup(page.content, \"html.parser\")\n",
    "html_liens = soup.find_all(\"a\")\n",
    "liens = [link.get(\"href\") for link in html_liens if link.get(\"href\")]"
   ]
  },
  {
   "cell_type": "code",
   "execution_count": 49,
   "id": "755356ff-75f9-4aa7-a2fc-9aa7a6914724",
   "metadata": {},
   "outputs": [
    {
     "data": {
      "text/plain": [
       "[',\\xa0Féminisme et faux amiEs : récupération, dévoiement\\xa0,\\xa0Féminisme, politique et société']"
      ]
     },
     "execution_count": 49,
     "metadata": {},
     "output_type": "execute_result"
    }
   ],
   "source": [
    "#Ici j'essaie de récupérer les titres mais c compliqué\n",
    "\n",
    "url = \"https://christineld75.wordpress.com/sommaire-des-articles/\"\n",
    "page = requests.get(url)\n",
    "soup = BeautifulSoup(page.content, \"html.parser\")\n",
    "list_titre = []\n",
    "\n",
    "# Récupérer toutes les balises <a> avec la classe \"strong\" sur la page\n",
    "balises_a_strong = soup.find_all(\"a\")\n",
    "\n",
    "# Itérer sur les balises <a> pour extraire les liens et les textes associés\n",
    "for balise_a in balises_a_strong:\n",
    "    lien = balise_a.get(\"href\")\n",
    "    texte_apres_lien = balise_a.find_next_sibling(\"strong\").text.strip() if balise_a.find_next_sibling(\"strong\") else \"\"\n",
    "    if texte_apres_lien != \"\":\n",
    "        list_titre.append(texte_apres_lien)\n",
    "# Afficher la liste des titres\n",
    "list_titre"
   ]
  },
  {
   "cell_type": "code",
   "execution_count": 9,
   "id": "c33a5cf2-690c-4ca0-8ead-81a1e1250e49",
   "metadata": {},
   "outputs": [
    {
     "name": "stderr",
     "output_type": "stream",
     "text": [
      "Some characters could not be decoded, and were replaced with REPLACEMENT CHARACTER.\n"
     ]
    }
   ],
   "source": [
    "contenus = []\n",
    "\n",
    "for lien in liens[0:100]:\n",
    "    try:\n",
    "        # Obtenir l'URL de chaque lien\n",
    "        url_page_referree = lien\n",
    "\n",
    "        # Envoyer une requête pour obtenir le contenu HTML de la page référencée\n",
    "        response_page_referree = requests.get(url_page_referree)\n",
    "        response_page_referree.raise_for_status()  # Vérifier si la requête a réussi\n",
    "\n",
    "        # Utiliser BeautifulSoup pour analyser le HTML de la page référencée\n",
    "        soup_page_referree = BeautifulSoup(response_page_referree.content, 'html.parser')\n",
    "\n",
    "        # Trouver le contenu spécifique que vous souhaitez extraire (ajustez en fonction de la structure HTML)\n",
    "        content = soup_page_referree.find('div', {'class': 'post'})\n",
    "        content_text = content.text.strip() if content else \"Contenu non trouvé\"\n",
    "\n",
    "        # Ajouter le contenu à la liste\n",
    "        contenus.append(content_text)\n",
    "\n",
    "    except requests.exceptions.RequestException as e:\n",
    "        print(f\"Erreur lors de la récupération de {url_page_referree}:\")"
   ]
  },
  {
   "cell_type": "markdown",
   "id": "526b2c5f-6e3c-4346-9ce9-f8acdb6afa18",
   "metadata": {},
   "source": [
    "# Observatoire de la Petite Sirène #"
   ]
  },
  {
   "cell_type": "code",
   "execution_count": 12,
   "id": "ba00c50b-d8ae-4162-841c-accd1d25a0d4",
   "metadata": {},
   "outputs": [],
   "source": [
    "url = \"https://www.observatoirepetitesirene.org/nos-publications\"\n",
    "page = requests.get(url)\n",
    "\n",
    "# Ajoutez une pause de 1 seconde\n",
    "time.sleep(1)\n",
    "\n",
    "soup = BeautifulSoup(page.content, \"html.parser\")\n",
    "html_liens = soup.find_all(\"a\")\n",
    "liens = [link.get(\"href\") for link in html_liens if link.get(\"href\")]\n"
   ]
  },
  {
   "cell_type": "code",
   "execution_count": 14,
   "id": "1203953f-7405-432c-a231-11d6ee11fa8a",
   "metadata": {},
   "outputs": [
    {
     "name": "stdout",
     "output_type": "stream",
     "text": [
      "['https://www.observatoirepetitesirene.org/post/psychological-outcomes-of-12-15-year-olds-with-gender-dysphoria-receiving-pubertal-suppression', 'https://www.observatoirepetitesirene.org/post/have-the-psychiatric-needs-of-people-seeking-gender-reassignment-changed-as-their-numbers-increase', 'https://www.observatoirepetitesirene.org/post/adolescent-development-and-psychosocial-functioning-after-starting-cross-sex-hormones', 'https://www.observatoirepetitesirene.org/post/two-years-of-gender-identity-service-for-minors', 'https://www.observatoirepetitesirene.org/post/detransition-and-desistance-among-previously-trans-identified-young-adults', 'https://www.observatoirepetitesirene.org/post/nouvelle-étude-sur-les-détransitions', 'https://www.observatoirepetitesirene.org/post/gender-detransition-a-critical-review-of-the-literature-1', 'https://www.observatoirepetitesirene.org/post/breastfeeding-grief-after-chest-masculinisation-mastectomy-and-detransition-a-case-report-with-less', 'https://www.observatoirepetitesirene.org/post/sturm-und-drang-sous-la-mainmise-des-médias-la-souffrance-de-la-jeune-génération', 'https://www.observatoirepetitesirene.org/post/dysphorie-de-genre-à-apparition-rapide-rapports-des-parents-sur-1655-cas-possibles', 'https://www.observatoirepetitesirene.org/post/guide-clinique-à-l-intention-des-thérapeutes-travaillant-avec-des-jeunes-en-quête-d-identité-sexuell', 'https://www.observatoirepetitesirene.org/post/the-use-of-methodologies-in-littman-2018-is-consistent-with-the-use-of-methodologies', 'https://www.observatoirepetitesirene.org/post/une-nouvelle-fuite-de-la-féminité', 'https://www.observatoirepetitesirene.org/post/l-identite-contemporaine-en-souffrance-le-trans-sympto-me', 'https://www.observatoirepetitesirene.org/post/origine-de-l-expression-identité-de-genre-ou-gender-identity', 'https://www.observatoirepetitesirene.org/post/a-childhood-is-not-reversible']\n"
     ]
    }
   ],
   "source": [
    "\n",
    "# La chaîne de caractères à rechercher\n",
    "prefixe = \"https://www.observatoirepetitesirene.org/post\"\n",
    "\n",
    "# Filtrer les éléments de la liste commençant par le préfixe\n",
    "articles_filtres = [url for url in liens if url.startswith(prefixe)]\n",
    "\n",
    "#On obtient pas les liens voulus. Je corrige plus tard"
   ]
  },
  {
   "cell_type": "markdown",
   "id": "22e89def-62a9-469a-93cd-78724d05a06e",
   "metadata": {},
   "source": [
    "# Ypomoni #"
   ]
  },
  {
   "cell_type": "code",
   "execution_count": 17,
   "id": "c724a16c-eac6-454d-a1fe-85cc6475995c",
   "metadata": {},
   "outputs": [
    {
     "data": {
      "text/plain": [
       "['https://www.academie-medecine.fr/wp-content/uploads/2022/02/22.2.25-Communique-PCRA-19-Medecine-et-transidentite-genre.pdf',\n",
       " 'https://solidarites-sante.gouv.fr/IMG/pdf/rapport_sante_des_personnes_trans_2022.pdf',\n",
       " 'https://www.observatoirepetitesirene.org/_files/ugd/49b30a_b7027bdd0464478493dccdfeb47b9d65.pdf']"
      ]
     },
     "execution_count": 17,
     "metadata": {},
     "output_type": "execute_result"
    }
   ],
   "source": [
    "# URL de la page contenant les liens vers les PDF\n",
    "url_de_la_page = \"https://ypomoni.org/sante/\"\n",
    "\n",
    "def extract_ypo(url):\n",
    "    liste_url =  []\n",
    "\n",
    "    # Télécharger le contenu de la page\n",
    "    response = requests.get(url_de_la_page)\n",
    "\n",
    "    if response.status_code == 200:\n",
    "        soup = BeautifulSoup(response.content, 'html.parser')\n",
    "    \n",
    "        # Utiliser une expression régulière pour trouver les liens vers les fichiers PDF\n",
    "        liens_pdfs = soup.find_all('a', href=re.compile(r'\\.pdf$'))\n",
    "\n",
    "        # Afficher les URLs des PDF\n",
    "        for lien_pdf in liens_pdfs:\n",
    "            url_pdf = lien_pdf['href']\n",
    "            liste_url.append(url_pdf)\n",
    "    else:\n",
    "        print(f\"Erreur de requête sur la page {url_de_la_page}\")\n",
    "    return liste_url\n",
    "\n",
    "extract_ypo(url_de_la_page)"
   ]
  },
  {
   "cell_type": "markdown",
   "id": "ce5f0240-3a06-4f2e-80c3-62a88b474e6e",
   "metadata": {},
   "source": [
    "On va scrapper direct le contenu car finalement, pas grand chose d'exploitable.\n",
    "Je le fais plus tard car dans l'immédiat, sur ma tablette, c'est pas du tout pratique."
   ]
  },
  {
   "cell_type": "code",
   "execution_count": null,
   "id": "d7706024-c725-4902-bab7-ff609e6085ce",
   "metadata": {},
   "outputs": [],
   "source": []
  }
 ],
 "metadata": {
  "kernelspec": {
   "display_name": "Python 3 (ipykernel)",
   "language": "python",
   "name": "python3"
  },
  "language_info": {
   "codemirror_mode": {
    "name": "ipython",
    "version": 3
   },
   "file_extension": ".py",
   "mimetype": "text/x-python",
   "name": "python",
   "nbconvert_exporter": "python",
   "pygments_lexer": "ipython3",
   "version": "3.10.13"
  }
 },
 "nbformat": 4,
 "nbformat_minor": 5
}
