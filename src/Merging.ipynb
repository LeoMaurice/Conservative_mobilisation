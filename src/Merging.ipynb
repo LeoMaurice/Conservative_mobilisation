{
 "cells": [
  {
   "cell_type": "code",
   "execution_count": 24,
   "id": "713d5aa7-cc2b-4c81-80aa-b80cba9e8490",
   "metadata": {},
   "outputs": [
    {
     "name": "stdout",
     "output_type": "stream",
     "text": [
      "Collecting openpyxl\n",
      "  Downloading openpyxl-3.1.2-py2.py3-none-any.whl (249 kB)\n",
      "\u001b[2K     \u001b[90m━━━━━━━━━━━━━━━━━━━━━━━━━━━━━━━━━━━━━━\u001b[0m \u001b[32m250.0/250.0 kB\u001b[0m \u001b[31m13.2 MB/s\u001b[0m eta \u001b[36m0:00:00\u001b[0m\n",
      "\u001b[?25hCollecting et-xmlfile (from openpyxl)\n",
      "  Downloading et_xmlfile-1.1.0-py3-none-any.whl (4.7 kB)\n",
      "Installing collected packages: et-xmlfile, openpyxl\n",
      "Successfully installed et-xmlfile-1.1.0 openpyxl-3.1.2\n"
     ]
    }
   ],
   "source": [
    "!pip install openpyxl\n",
    "\n",
    "import openpyxl\n",
    "import pandas as pd\n",
    "import os"
   ]
  },
  {
   "cell_type": "markdown",
   "id": "9d2aaa33-15cf-4c54-bf41-4d658570ff80",
   "metadata": {},
   "source": [
    "On va procéder ici au merging des bases de données. \n",
    "\n",
    "## Préparation des sites \n",
    "\n",
    "### Préparation de la base manuelle"
   ]
  },
  {
   "cell_type": "code",
   "execution_count": 25,
   "id": "c190f3cf-96dc-4bdb-80e5-9f7ba3a7a116",
   "metadata": {},
   "outputs": [],
   "source": [
    "# Obtenez le chemin du répertoire parent du répertoire src\n",
    "base_dir = os.path.abspath(os.path.join(os.getcwd(), '..'))\n",
    "\n",
    "# Construisez le chemin complet vers votre fichier Excel\n",
    "fichier_excel = os.path.join(base_dir, 'data', 'text', 'manuel.xlsx')\n",
    "\n",
    "# Chargez le fichier Excel dans un DataFrame\n",
    "sites = pd.read_excel(fichier_excel, sheet_name=0)"
   ]
  },
  {
   "cell_type": "code",
   "execution_count": 22,
   "id": "c918a813-b1a1-4678-bcd1-52c1b864b2f1",
   "metadata": {},
   "outputs": [
    {
     "data": {
      "text/plain": [
       "'/home/onyxia/work/Conservative_mobilisation'"
      ]
     },
     "execution_count": 22,
     "metadata": {},
     "output_type": "execute_result"
    }
   ],
   "source": [
    "base_dir"
   ]
  },
  {
   "cell_type": "code",
   "execution_count": null,
   "id": "e3942027-8ba8-494d-9a0e-84d1ff2a3aff",
   "metadata": {},
   "outputs": [],
   "source": []
  }
 ],
 "metadata": {
  "kernelspec": {
   "display_name": "Python 3 (ipykernel)",
   "language": "python",
   "name": "python3"
  },
  "language_info": {
   "codemirror_mode": {
    "name": "ipython",
    "version": 3
   },
   "file_extension": ".py",
   "mimetype": "text/x-python",
   "name": "python",
   "nbconvert_exporter": "python",
   "pygments_lexer": "ipython3",
   "version": "3.10.13"
  }
 },
 "nbformat": 4,
 "nbformat_minor": 5
}
