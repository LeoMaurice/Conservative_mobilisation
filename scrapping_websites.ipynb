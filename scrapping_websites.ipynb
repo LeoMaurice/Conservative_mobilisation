{
 "cells": [
  {
   "cell_type": "markdown",
   "metadata": {},
   "source": [
    "# Femellistes"
   ]
  },
  {
   "cell_type": "code",
   "execution_count": null,
   "metadata": {},
   "outputs": [],
   "source": [
    "import requests\n",
    "from bs4 import BeautifulSoup\n",
    "import csv"
   ]
  },
  {
   "cell_type": "markdown",
   "metadata": {},
   "source": [
    "## Scrapping les postes de blogs"
   ]
  },
  {
   "cell_type": "code",
   "execution_count": 15,
   "metadata": {},
   "outputs": [],
   "source": [
    "# Fonction pour récupérer les informations d'une page donnée\n",
    "def scrape_page(url):\n",
    "    response = requests.get(url)\n",
    "    if response.status_code == 200:\n",
    "        soup = BeautifulSoup(response.text, 'html.parser')\n",
    "        articles = soup.find_all('div', class_='blog-basic-grid--text')\n",
    "        for article in articles:\n",
    "            title = article.find('h1', class_='blog-title').text.strip()\n",
    "            author = article.find('span', class_='blog-author').text.strip()\n",
    "            date = article.find('time', class_='blog-date').text.strip()\n",
    "            categories = [cat.text.strip() for cat in article.find_all('a', class_='blog-categories')]\n",
    "            excerpt = article.find('div', class_='blog-excerpt').text.strip()\n",
    "            read_more_link = article.find('a', class_='blog-more-link')['href']\n",
    "\n",
    "            article_url = f\"https://www.femelliste.com{read_more_link}\"\n",
    "            article_response = requests.get(article_url)\n",
    "            if article_response.status_code == 200:\n",
    "                article_soup = BeautifulSoup(article_response.text, 'html.parser')\n",
    "                main_content = article_soup.find('div', {'data-content-field': 'main-content'})\n",
    "                full_text = main_content.get_text(strip=True)\n",
    "            else:\n",
    "                full_text = \"Échec de la requête pour l'article.\"\n",
    "\n",
    "            writer.writerow({\n",
    "                'Titre': title,\n",
    "                'Auteur': author,\n",
    "                'Date': date,\n",
    "                'Catégories': ', '.join(categories),\n",
    "                'Extrait': excerpt,\n",
    "                'Texte Complet': full_text,\n",
    "                'URL Complète': article_url\n",
    "            })\n",
    "    else:\n",
    "        print(f\"Échec de la requête avec le code d'état: {response.status_code}\")\n",
    "\n",
    "# Ouvrir un fichier TSV en mode écriture avec un délimiteur tab\n",
    "with open('articles.tsv', 'w', newline='', encoding='utf-8') as tsvfile:\n",
    "    fieldnames = ['Titre', 'Auteur', 'Date', 'Catégories', 'Extrait', 'Texte Complet', 'URL Complète']\n",
    "    writer = csv.DictWriter(tsvfile, fieldnames=fieldnames, delimiter='\\t')\n",
    "    writer.writeheader()\n",
    "\n",
    "    base_url = \"https://www.femelliste.com/articles-femellisme-feminisme\"\n",
    "\n",
    "    while True:\n",
    "        current_url = f\"{base_url}\"\n",
    "        scrape_page(current_url)\n",
    "\n",
    "        # Vérifier la présence du lien \"Billets plus anciens\"\n",
    "        older_button = BeautifulSoup(requests.get(current_url).text, 'html.parser').find('div', class_='older')\n",
    "        \n",
    "        # Vérifier si older_button existe et si un lien 'rel=next' est présent\n",
    "        next_page_link = older_button.find('a', rel='next')['href'] if older_button and older_button.find('a', rel='next') else None\n",
    "\n",
    "        # Sortir de la boucle s'il n'y a pas de lien suivant ou si l'URL ne change pas\n",
    "        if not next_page_link or next_page_link == base_url:\n",
    "            break\n",
    "\n",
    "        # Mettre à jour l'URL pour la prochaine itération\n",
    "        base_url = f\"https://www.femelliste.com{next_page_link}\"\n"
   ]
  }
 ],
 "metadata": {
  "kernelspec": {
   "display_name": "ml_base",
   "language": "python",
   "name": "python3"
  },
  "language_info": {
   "codemirror_mode": {
    "name": "ipython",
    "version": 3
   },
   "file_extension": ".py",
   "mimetype": "text/x-python",
   "name": "python",
   "nbconvert_exporter": "python",
   "pygments_lexer": "ipython3",
   "version": "3.10.12"
  }
 },
 "nbformat": 4,
 "nbformat_minor": 2
}
